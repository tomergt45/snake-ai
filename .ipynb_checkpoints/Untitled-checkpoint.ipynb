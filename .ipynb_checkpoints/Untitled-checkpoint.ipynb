{
 "cells": [
  {
   "cell_type": "code",
   "execution_count": null,
   "metadata": {},
   "outputs": [],
   "source": [
    "pygame.init()\n",
    "font = pygame.font.Font(pygame.font.get_default_font(), 36)\n",
    "\n",
    "def draw_window(snake, food):\n",
    "    win = pygame.display.set_mode((WIN_WIDTH, WIN_HEIGHT))\n",
    "    pygame.display.set_caption(\"Snake\")\n",
    "\n",
    "    max_score = 0\n",
    "    snake.draw(win)\n",
    "\n",
    "    score = snake.length - Snake.INITIAL_LENGTH\n",
    "    food.draw(win)\n",
    "    \n",
    "    text = font.render(\"Highest Score: \" + str(max_score), 1, (255, 255, 255))\n",
    "    win.blit(text, (WIN_WIDTH - 10 - text.get_width(), 10))\n",
    "    \n",
    "    pygame.display.update()\n",
    "    \n",
    "def main():\n",
    "    run = True\n",
    "    \n",
    "    snake = Snake(300, 300)\n",
    "    food = SnakeFood(snake)\n",
    "    \n",
    "    while run:\n",
    "        pygame.time.delay(40)\n",
    "        \n",
    "        for event in pygame.event.get():\n",
    "            if event.type == pygame.QUIT:\n",
    "                run = False\n",
    "            elif event.type == pygame.KEYDOWN:\n",
    "                if event.key == pygame.K_LEFT:\n",
    "                    snake.add_move(Snake.LEFT)\n",
    "                elif event.key == pygame.K_RIGHT:\n",
    "                    snake.add_move(Snake.RIGHT)\n",
    "                elif event.key == pygame.K_DOWN:\n",
    "                    snake.add_move(Snake.DOWN)\n",
    "                elif event.key == pygame.K_UP:\n",
    "                    snake.add_move(Snake.UP)\n",
    "        \n",
    "        snake.move()\n",
    "\n",
    "        if snake.check_collision():\n",
    "            run = False\n",
    "        elif snake.check_food(food):\n",
    "            snake.add_cell()\n",
    "            food = SnakeFood(snake)\n",
    "\n",
    "        draw_window(snake, food)\n",
    "    \n",
    "    pygame.quit()\n",
    "\n",
    "main()"
   ]
  }
 ],
 "metadata": {
  "kernelspec": {
   "display_name": "Python 3",
   "language": "python",
   "name": "python3"
  },
  "language_info": {
   "name": ""
  }
 },
 "nbformat": 4,
 "nbformat_minor": 4
}
